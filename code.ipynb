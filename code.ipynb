{
 "cells": [
  {
   "cell_type": "code",
   "execution_count": null,
   "metadata": {},
   "outputs": [
    {
     "name": "stdout",
     "output_type": "stream",
     "text": [
      "nvcc: NVIDIA (R) Cuda compiler driver\n",
      "Copyright (c) 2005-2020 NVIDIA Corporation\n",
      "Built on Mon_Nov_30_19:08:53_PST_2020\n",
      "Cuda compilation tools, release 11.2, V11.2.67\n",
      "Build cuda_11.2.r11.2/compiler.29373293_0\n",
      "Sun Feb  9 01:36:25 2025       \n",
      "+-----------------------------------------------------------------------------------------+\n",
      "| NVIDIA-SMI 550.144.03             Driver Version: 550.144.03     CUDA Version: 12.4     |\n",
      "|-----------------------------------------+------------------------+----------------------+\n",
      "| GPU  Name                 Persistence-M | Bus-Id          Disp.A | Volatile Uncorr. ECC |\n",
      "| Fan  Temp   Perf          Pwr:Usage/Cap |           Memory-Usage | GPU-Util  Compute M. |\n",
      "|                                         |                        |               MIG M. |\n",
      "|=========================================+========================+======================|\n",
      "|   0  NVIDIA GeForce RTX 3060        Off |   00000000:01:00.0  On |                  N/A |\n",
      "|  0%   54C    P5             17W /  170W |     794MiB /  12288MiB |     27%      Default |\n",
      "|                                         |                        |                  N/A |\n",
      "+-----------------------------------------+------------------------+----------------------+\n",
      "                                                                                         \n",
      "+-----------------------------------------------------------------------------------------+\n",
      "| Processes:                                                                              |\n",
      "|  GPU   GI   CI        PID   Type   Process name                              GPU Memory |\n",
      "|        ID   ID                                                               Usage      |\n",
      "|=========================================================================================|\n",
      "|    0   N/A  N/A      7944      G   /usr/libexec/Xorg                             208MiB |\n",
      "|    0   N/A  N/A      8062      G   /usr/bin/gnome-shell                          178MiB |\n",
      "|    0   N/A  N/A      8320      G   kalendarac                                      2MiB |\n",
      "|    0   N/A  N/A      8677      G   /usr/lib64/firefox/firefox                    183MiB |\n",
      "|    0   N/A  N/A     32228      G   ...erProcess --variations-seed-version        201MiB |\n",
      "+-----------------------------------------------------------------------------------------+\n"
     ]
    }
   ],
   "source": [
    "!source /etc/profile.d/modules.sh\n",
    "!module load CUDA/11.2\n",
    "!export PATH=/local/java/cuda-11.2/bin:$PATH\n",
    "!export LD_LIBRARY_PATH=/local/java/cuda-11.2/lib64:/local/java/cudnn-8.1_for_cuda_11.2/lib64:$LD_LIBRARY_PATH  # this line is needed for it to recognise gpu devices -- run this in the terminal\n",
    "!export CUDA_HOME=/local/java/cuda-11.2\n",
    "!/local/java/cuda-11.2/bin/nvcc --version\n",
    "!nvidia-smi"
   ]
  },
  {
   "cell_type": "code",
   "execution_count": 3,
   "metadata": {},
   "outputs": [
    {
     "name": "stderr",
     "output_type": "stream",
     "text": [
      "2025-02-09 01:36:25.173505: I tensorflow/core/platform/cpu_feature_guard.cc:193] This TensorFlow binary is optimized with oneAPI Deep Neural Network Library (oneDNN) to use the following CPU instructions in performance-critical operations:  AVX2 AVX_VNNI FMA\n",
      "To enable them in other operations, rebuild TensorFlow with the appropriate compiler flags.\n",
      "2025-02-09 01:36:25.264894: I tensorflow/core/util/util.cc:169] oneDNN custom operations are on. You may see slightly different numerical results due to floating-point round-off errors from different computation orders. To turn them off, set the environment variable `TF_ENABLE_ONEDNN_OPTS=0`.\n",
      "2025-02-09 01:36:25.286208: E tensorflow/stream_executor/cuda/cuda_blas.cc:2981] Unable to register cuBLAS factory: Attempting to register factory for plugin cuBLAS when one has already been registered\n",
      "2025-02-09 01:36:26.209828: W tensorflow/stream_executor/platform/default/dso_loader.cc:64] Could not load dynamic library 'libnvinfer.so.7'; dlerror: libnvinfer.so.7: cannot open shared object file: No such file or directory; LD_LIBRARY_PATH: /local/java/cuda-11.2/lib64:/local/java/cudnn-8.1_for_cuda_11.2/lib64:/local/java/cuda-11.2/lib64:/local/java/cudnn-8.1_for_cuda_11.2/lib64:/local/java/cuda-11.2/lib64:/local/java/cudnn-8.1_for_cuda_11.2/lib64:/local/java/cuda-11.2/lib64:/local/java/cudnn-8.1_for_cuda_11.2/lib64:\n",
      "2025-02-09 01:36:26.209878: W tensorflow/stream_executor/platform/default/dso_loader.cc:64] Could not load dynamic library 'libnvinfer_plugin.so.7'; dlerror: libnvinfer_plugin.so.7: cannot open shared object file: No such file or directory; LD_LIBRARY_PATH: /local/java/cuda-11.2/lib64:/local/java/cudnn-8.1_for_cuda_11.2/lib64:/local/java/cuda-11.2/lib64:/local/java/cudnn-8.1_for_cuda_11.2/lib64:/local/java/cuda-11.2/lib64:/local/java/cudnn-8.1_for_cuda_11.2/lib64:/local/java/cuda-11.2/lib64:/local/java/cudnn-8.1_for_cuda_11.2/lib64:\n",
      "2025-02-09 01:36:26.209883: W tensorflow/compiler/tf2tensorrt/utils/py_utils.cc:38] TF-TRT Warning: Cannot dlopen some TensorRT libraries. If you would like to use Nvidia GPU with TensorRT, please make sure the missing libraries mentioned above are installed properly.\n"
     ]
    },
    {
     "name": "stdout",
     "output_type": "stream",
     "text": [
      "2.10.0\n",
      "[PhysicalDevice(name='/physical_device:GPU:0', device_type='GPU')]\n"
     ]
    },
    {
     "name": "stderr",
     "output_type": "stream",
     "text": [
      "2025-02-09 01:36:27.750418: I tensorflow/stream_executor/cuda/cuda_gpu_executor.cc:980] successful NUMA node read from SysFS had negative value (-1), but there must be at least one NUMA node, so returning NUMA node zero\n",
      "2025-02-09 01:36:27.758402: I tensorflow/stream_executor/cuda/cuda_gpu_executor.cc:980] successful NUMA node read from SysFS had negative value (-1), but there must be at least one NUMA node, so returning NUMA node zero\n",
      "2025-02-09 01:36:27.758501: I tensorflow/stream_executor/cuda/cuda_gpu_executor.cc:980] successful NUMA node read from SysFS had negative value (-1), but there must be at least one NUMA node, so returning NUMA node zero\n"
     ]
    }
   ],
   "source": [
    "import os \n",
    "import tensorflow as tf\n",
    "\n",
    "import matplotlib.pyplot as plt \n",
    "from tensorflow.keras.models import Model \n",
    "from tensorflow.keras.layers import Layer, Conv2D, Dense, MaxPooling2D, Input, Flatten\n",
    "\n",
    "print(tf.__version__)  # 2.12.0\n",
    "print(tf.config.list_physical_devices('GPU'))  # should show gpu available\n"
   ]
  },
  {
   "cell_type": "markdown",
   "metadata": {},
   "source": [
    "# Get images as (anchor, second_image, label)\n",
    "1 if second image is positive, 0 if negative"
   ]
  },
  {
   "cell_type": "code",
   "execution_count": 4,
   "metadata": {},
   "outputs": [
    {
     "data": {
      "text/plain": [
       "[('mouse_untrained_positive',\n",
       "  'test/positive/mouse_untrained_positive/20250131_014405.jpg',\n",
       "  'test/positive/mouse_untrained_positive/20250129_125729.jpg',\n",
       "  1),\n",
       " ('earbuds_untrained_different_environment',\n",
       "  'test/positive/earbuds_untrained_different_environment/20250131_030121.jpg',\n",
       "  'test/positive/earbuds_untrained_different_environment/20250131_030103.jpg',\n",
       "  1),\n",
       " ('light_untrained_positive',\n",
       "  'test/positive/light_untrained_positive/20250131_025753.jpg',\n",
       "  'test/positive/light_untrained_positive/20250131_025818.jpg',\n",
       "  1),\n",
       " ('power_bank_trained',\n",
       "  'test/positive/power_bank_trained/s-l1200.jpg',\n",
       "  'test/positive/power_bank_trained/20250204_204406.jpg',\n",
       "  1),\n",
       " ('pen_trained_positive',\n",
       "  'test/positive/pen_trained_positive/20250131_014147.jpg',\n",
       "  'test/positive/pen_trained_positive/20250131_014155.jpg',\n",
       "  1),\n",
       " ('stand_untrained_different_image_size',\n",
       "  'test/positive/stand_untrained_different_image_size/20250131_030323.jpg',\n",
       "  'test/positive/stand_untrained_different_image_size/20250131_030315.jpg',\n",
       "  1),\n",
       " ('mouse_untrained_negative',\n",
       "  'test/negative/mouse_untrained_negative/20250129_200824.jpg',\n",
       "  'test/negative/mouse_untrained_negative/20250131_014405.jpg',\n",
       "  0),\n",
       " ('power_bank_trained',\n",
       "  'test/negative/power_bank_trained/20250204_203223.jpg',\n",
       "  'test/negative/power_bank_trained/20250204_190453.jpg',\n",
       "  0),\n",
       " ('pen_trained_negative',\n",
       "  'test/negative/pen_trained_negative/20250131_001144.jpg',\n",
       "  'test/negative/pen_trained_negative/20250131_014155.jpg',\n",
       "  0),\n",
       " ('completely_unrelated',\n",
       "  'test/negative/completely_unrelated/20250131_001000.jpg',\n",
       "  'test/negative/completely_unrelated/20250130_180020.jpg',\n",
       "  0)]"
      ]
     },
     "execution_count": 4,
     "metadata": {},
     "output_type": "execute_result"
    }
   ],
   "source": [
    "TRAIN_PATH = \"train\"\n",
    "TEST_PATH = \"test\"\n",
    "\n",
    "positive_pairs_train = []\n",
    "negative_pairs_train = []\n",
    "\n",
    "# Anchor images are in train/directory/anchor for each directory\n",
    "for category in os.listdir(TRAIN_PATH):\n",
    "    anchor_dir = os.path.join(TRAIN_PATH, category, \"anchor\")\n",
    "    positive_dir = os.path.join(TRAIN_PATH, category, \"positive\")\n",
    "    negative_dir = os.path.join(TRAIN_PATH, category, \"negative\")\n",
    "\n",
    "    anchor_list = [os.path.join(anchor_dir, f) for f in os.listdir(anchor_dir)]\n",
    "    positive_list = [os.path.join(positive_dir, f) for f in os.listdir(positive_dir)]\n",
    "    negative_list = [os.path.join(negative_dir, f) for f in os.listdir(negative_dir)]\n",
    "\n",
    "    # Within each category directory, match each anchor with each positive and negative \n",
    "    positive_pairs_train += [(a, p, 1) for a in anchor_list for p in positive_list]\n",
    "    negative_pairs_train += [(a, n, 0) for a in anchor_list for n in negative_list]\n",
    "\n",
    "data_raw_train = positive_pairs_train + negative_pairs_train \n",
    "\n",
    "# Do the same for test images\n",
    "positive_pairs_test = []\n",
    "negative_pairs_test = []\n",
    "\n",
    "test_path_positive = os.path.join(TEST_PATH, \"positive\")\n",
    "test_path_negative = os.path.join(TEST_PATH, \"negative\")\n",
    "\n",
    "for category in os.listdir(test_path_positive):\n",
    "    dirs = os.listdir(os.path.join(test_path_positive, category))\n",
    "    first_dir = os.path.join(test_path_positive, category, dirs[0])\n",
    "    second_dir = os.path.join(test_path_positive, category, dirs[1])\n",
    "    positive_pairs_test.append((category, first_dir, second_dir, 1))\n",
    "\n",
    "for category in os.listdir(test_path_negative):\n",
    "    dirs = os.listdir(os.path.join(test_path_negative, category))\n",
    "    first_dir = os.path.join(test_path_negative, category, dirs[0])\n",
    "    second_dir = os.path.join(test_path_negative, category, dirs[1])\n",
    "    negative_pairs_test.append((category, first_dir, second_dir, 0))\n",
    "\n",
    "data_raw_test = positive_pairs_test + negative_pairs_test\n",
    "\n",
    "data_raw_test"
   ]
  },
  {
   "cell_type": "markdown",
   "metadata": {},
   "source": [
    "# Preprocess images"
   ]
  },
  {
   "cell_type": "code",
   "execution_count": 5,
   "metadata": {},
   "outputs": [
    {
     "name": "stderr",
     "output_type": "stream",
     "text": [
      "2025-02-09 01:36:28.497925: I tensorflow/core/platform/cpu_feature_guard.cc:193] This TensorFlow binary is optimized with oneAPI Deep Neural Network Library (oneDNN) to use the following CPU instructions in performance-critical operations:  AVX2 AVX_VNNI FMA\n",
      "To enable them in other operations, rebuild TensorFlow with the appropriate compiler flags.\n",
      "2025-02-09 01:36:28.499536: I tensorflow/stream_executor/cuda/cuda_gpu_executor.cc:980] successful NUMA node read from SysFS had negative value (-1), but there must be at least one NUMA node, so returning NUMA node zero\n",
      "2025-02-09 01:36:28.499840: I tensorflow/stream_executor/cuda/cuda_gpu_executor.cc:980] successful NUMA node read from SysFS had negative value (-1), but there must be at least one NUMA node, so returning NUMA node zero\n",
      "2025-02-09 01:36:28.500036: I tensorflow/stream_executor/cuda/cuda_gpu_executor.cc:980] successful NUMA node read from SysFS had negative value (-1), but there must be at least one NUMA node, so returning NUMA node zero\n",
      "2025-02-09 01:36:28.803539: I tensorflow/stream_executor/cuda/cuda_gpu_executor.cc:980] successful NUMA node read from SysFS had negative value (-1), but there must be at least one NUMA node, so returning NUMA node zero\n",
      "2025-02-09 01:36:28.803644: I tensorflow/stream_executor/cuda/cuda_gpu_executor.cc:980] successful NUMA node read from SysFS had negative value (-1), but there must be at least one NUMA node, so returning NUMA node zero\n",
      "2025-02-09 01:36:28.803702: I tensorflow/stream_executor/cuda/cuda_gpu_executor.cc:980] successful NUMA node read from SysFS had negative value (-1), but there must be at least one NUMA node, so returning NUMA node zero\n",
      "2025-02-09 01:36:28.803763: I tensorflow/core/common_runtime/gpu/gpu_device.cc:1616] Created device /job:localhost/replica:0/task:0/device:GPU:0 with 9362 MB memory:  -> device: 0, name: NVIDIA GeForce RTX 3060, pci bus id: 0000:01:00.0, compute capability: 8.6\n"
     ]
    },
    {
     "data": {
      "text/plain": [
       "<matplotlib.image.AxesImage at 0x7f1d9cfcffd0>"
      ]
     },
     "execution_count": 5,
     "metadata": {},
     "output_type": "execute_result"
    },
    {
     "data": {
      "image/png": "[encoded data removed]",
      "text/plain": [
       "<Figure size 640x480 with 1 Axes>"
      ]
     },
     "metadata": {},
     "output_type": "display_data"
    }
   ],
   "source": [
    "def preprocess(image_path):\n",
    "    byte_img = tf.io.read_file(image_path)\n",
    "    img = tf.io.decode_jpeg(byte_img)\n",
    "    img = tf.image.resize(img, (105, 105))  # Resize to 105x105\n",
    "    img = img[:, :, :3]  # Keep 3 channels\n",
    "    img = img / 255.0  # Scale image between 0 and 1\n",
    "    return img \n",
    "\n",
    "# The first anchor image is shown\n",
    "test = preprocess(data_raw_train[0][0])\n",
    "plt.imshow(test)"
   ]
  },
  {
   "cell_type": "markdown",
   "metadata": {},
   "source": [
    "# Create labelled dataset (1 and 0)"
   ]
  },
  {
   "cell_type": "code",
   "execution_count": 6,
   "metadata": {},
   "outputs": [],
   "source": [
    "\n",
    "# Convert to tf dataset \n",
    "def convert_to_tf_dataset(data_raw):\n",
    "    i1_paths, i2_paths, labels = zip(*data_raw)\n",
    "    i1_dataset = tf.data.Dataset.from_tensor_slices(list(i1_paths)).map(preprocess)  # Preprocess the images \n",
    "    i2_dataset = tf.data.Dataset.from_tensor_slices(list(i2_paths)).map(preprocess)\n",
    "    label_dataset = tf.data.Dataset.from_tensor_slices(list(labels))\n",
    "\n",
    "    dataset = tf.data.Dataset.zip((i1_dataset, i2_dataset, label_dataset))\n",
    "    dataset = dataset.cache()\n",
    "    dataset = dataset.shuffle(buffer_size=1024)\n",
    "\n",
    "    return dataset"
   ]
  },
  {
   "cell_type": "code",
   "execution_count": 7,
   "metadata": {},
   "outputs": [
    {
     "name": "stdout",
     "output_type": "stream",
     "text": [
      "1\n"
     ]
    },
    {
     "data": {
      "text/plain": [
       "<ShuffleDataset element_spec=(TensorSpec(shape=(105, 105, None), dtype=tf.float32, name=None), TensorSpec(shape=(105, 105, None), dtype=tf.float32, name=None), TensorSpec(shape=(), dtype=tf.int32, name=None))>"
      ]
     },
     "execution_count": 7,
     "metadata": {},
     "output_type": "execute_result"
    },
    {
     "data": {
      "image/png": "[encoded data removed]",
      "text/plain": [
       "<Figure size 640x480 with 1 Axes>"
      ]
     },
     "metadata": {},
     "output_type": "display_data"
    }
   ],
   "source": [
    "# Convert to tf dataset \n",
    "dataset_train = convert_to_tf_dataset(data_raw_train)\n",
    "\n",
    "# Check \n",
    "samples = dataset_train.as_numpy_iterator()\n",
    "next = samples.next()\n",
    "print(next[2])  # next[0] is the anchor, next[1] is the positive, next[2] is the negative\n",
    "# Hence, if 1 is printed, the image is positive, else the image should be negative:\n",
    "plt.imshow(next[1])\n",
    "\n",
    "# Should show a different image everytime \n",
    "dataset_train  "
   ]
  },
  {
   "cell_type": "markdown",
   "metadata": {},
   "source": [
    "# Create the train_data"
   ]
  },
  {
   "cell_type": "code",
   "execution_count": 8,
   "metadata": {},
   "outputs": [
    {
     "name": "stdout",
     "output_type": "stream",
     "text": [
      "569\n",
      "25\n",
      "11\n",
      "<PrefetchDataset element_spec=(TensorSpec(shape=(None, 105, 105, None), dtype=tf.float32, name=None), TensorSpec(shape=(None, 105, 105, None), dtype=tf.float32, name=None), TensorSpec(shape=(None,), dtype=tf.int32, name=None))>\n",
      "3\n",
      "16\n"
     ]
    }
   ],
   "source": [
    "# Number of anchors in each anchor dir * (Number of positives in each positive dir + Number of negatives in each negative dir) * Number of categories\n",
    "print(len(dataset_train))\n",
    "\n",
    "BATCH_SIZE = 16\n",
    "\n",
    "# Split the train dataset into train data (7) and validation data (3)\n",
    "train_data = dataset_train.take(round(len(dataset_train)*.7))  # Take all train data\n",
    "train_data = train_data.batch(BATCH_SIZE)\n",
    "train_data = train_data.prefetch(8)\n",
    "\n",
    "validation_data = dataset_train.skip(round(len(dataset_train)*.7))\n",
    "validation_data = validation_data.take(round(len(dataset_train)*.3))\n",
    "validation_data = validation_data.batch(BATCH_SIZE)\n",
    "validation_data = validation_data.prefetch(8)\n",
    "\n",
    "# Print the length of train data and validation data\n",
    "print(len(train_data))\n",
    "print(len(validation_data))\n",
    "\n",
    "# Check\n",
    "train_sample = train_data.as_numpy_iterator().next()\n",
    "print(train_data)\n",
    "print(len(train_sample))  # 3\n",
    "print(len(train_sample[0]))  # = BATCH_SIZE"
   ]
  },
  {
   "cell_type": "markdown",
   "metadata": {},
   "source": [
    "# Build embedding layer"
   ]
  },
  {
   "cell_type": "code",
   "execution_count": 9,
   "metadata": {},
   "outputs": [
    {
     "name": "stdout",
     "output_type": "stream",
     "text": [
      "Model: \"embedding\"\n",
      "_________________________________________________________________\n",
      " Layer (type)                Output Shape              Param #   \n",
      "=================================================================\n",
      " input_1 (InputLayer)        [(None, 105, 105, 3)]     0         \n",
      "                                                                 \n",
      " conv2d (Conv2D)             (None, 96, 96, 64)        19264     \n",
      "                                                                 \n",
      " max_pooling2d (MaxPooling2D  (None, 48, 48, 64)       0         \n",
      " )                                                               \n",
      "                                                                 \n",
      " conv2d_1 (Conv2D)           (None, 42, 42, 128)       401536    \n",
      "                                                                 \n",
      " max_pooling2d_1 (MaxPooling  (None, 21, 21, 128)      0         \n",
      " 2D)                                                             \n",
      "                                                                 \n",
      " conv2d_2 (Conv2D)           (None, 18, 18, 128)       262272    \n",
      "                                                                 \n",
      " max_pooling2d_2 (MaxPooling  (None, 9, 9, 128)        0         \n",
      " 2D)                                                             \n",
      "                                                                 \n",
      " conv2d_3 (Conv2D)           (None, 6, 6, 256)         524544    \n",
      "                                                                 \n",
      " flatten (Flatten)           (None, 9216)              0         \n",
      "                                                                 \n",
      " dense (Dense)               (None, 256)               2359552   \n",
      "                                                                 \n",
      "=================================================================\n",
      "Total params: 3,567,168\n",
      "Trainable params: 3,567,168\n",
      "Non-trainable params: 0\n",
      "_________________________________________________________________\n"
     ]
    }
   ],
   "source": [
    "\n",
    "def make_embedding():\n",
    "    inp = Input(shape=(105, 105, 3))\n",
    "\n",
    "    c1 = Conv2D(64, (10, 10), activation=\"relu\")(inp)  # Convolution + ReLU\n",
    "    m1 = MaxPooling2D(64, (2,2), padding=\"same\")(c1)  # Max pooling\n",
    "\n",
    "    c2 = Conv2D(128, (7,7), activation=\"relu\")(m1)\n",
    "    m2 = MaxPooling2D(64, (2,2), padding=\"same\")(c2)\n",
    "\n",
    "    c3 = Conv2D(128, (4,4), activation=\"relu\")(m2)\n",
    "    m3 = MaxPooling2D(64, (2,2), padding=\"same\")(c3)\n",
    "\n",
    "    c4 = Conv2D(256, (4,4), activation=\"relu\")(m3)\n",
    "    f1 = Flatten()(c4)\n",
    "    d1 = Dense(256, activation = \"sigmoid\")(f1)   # Fully connected layer \n",
    "\n",
    "    return Model(inputs=[inp], outputs = [d1], name = \"embedding\")\n",
    "\n",
    "# Create model\n",
    "embedding = make_embedding()\n",
    "embedding.summary()"
   ]
  },
  {
   "cell_type": "markdown",
   "metadata": {},
   "source": [
    "# Build distance layer"
   ]
  },
  {
   "cell_type": "code",
   "execution_count": 10,
   "metadata": {},
   "outputs": [],
   "source": [
    "class L1Dist(Layer):\n",
    "    def __init__(self, **kwargs):\n",
    "        super().__init__()\n",
    "    \n",
    "    # L1 distance (Similarity calculation)\n",
    "    def call(self, input_embedding, validation_embedding):\n",
    "        return tf.math.abs(input_embedding - validation_embedding)\n",
    "    \n",
    "l1 = L1Dist()"
   ]
  },
  {
   "cell_type": "markdown",
   "metadata": {},
   "source": [
    "# Make siamese model"
   ]
  },
  {
   "cell_type": "code",
   "execution_count": 11,
   "metadata": {},
   "outputs": [
    {
     "name": "stdout",
     "output_type": "stream",
     "text": [
      "Model: \"SiameseNetwork\"\n",
      "__________________________________________________________________________________________________\n",
      " Layer (type)                   Output Shape         Param #     Connected to                     \n",
      "==================================================================================================\n",
      " input_img (InputLayer)         [(None, 105, 105, 3  0           []                               \n",
      "                                )]                                                                \n",
      "                                                                                                  \n",
      " validation_img (InputLayer)    [(None, 105, 105, 3  0           []                               \n",
      "                                )]                                                                \n",
      "                                                                                                  \n",
      " embedding (Functional)         (None, 256)          3567168     ['input_img[0][0]',              \n",
      "                                                                  'validation_img[0][0]']         \n",
      "                                                                                                  \n",
      " distance (L1Dist)              (None, 256)          0           ['embedding[0][0]',              \n",
      "                                                                  'embedding[1][0]']              \n",
      "                                                                                                  \n",
      " dense_1 (Dense)                (None, 1)            257         ['distance[0][0]']               \n",
      "                                                                                                  \n",
      "==================================================================================================\n",
      "Total params: 3,567,425\n",
      "Trainable params: 3,567,425\n",
      "Non-trainable params: 0\n",
      "__________________________________________________________________________________________________\n"
     ]
    }
   ],
   "source": [
    "def make_siamese_model():\n",
    "    # Get the input images\n",
    "    input_image = Input(name=\"input_img\", shape=(105, 105, 3))\n",
    "    validation_image = Input(name=\"validation_img\", shape=(105, 105, 3))\n",
    "\n",
    "    siamese_layer = L1Dist()\n",
    "    siamese_layer._name = \"distance\"\n",
    "\n",
    "    # embedding() outputs a 4096 length array of feature vectors\n",
    "    distances = siamese_layer(embedding(input_image), embedding(validation_image))\n",
    "\n",
    "    # Final classification layer \n",
    "    classifier = Dense(1, activation=\"sigmoid\")(distances)\n",
    "    \n",
    "    # Return the siamese model\n",
    "    model = Model(inputs=[input_image, validation_image], outputs=classifier, name=\"SiameseNetwork\")\n",
    "    return model \n",
    "\n",
    "\n",
    "# First goes through embedding (Hidden) layers, then passed to distance layer and finally dense (output) layer \n",
    "siamese_model = make_siamese_model()\n",
    "siamese_model.summary()\n",
    "    "
   ]
  },
  {
   "cell_type": "markdown",
   "metadata": {},
   "source": [
    "# Set up loss and optimiser"
   ]
  },
  {
   "cell_type": "code",
   "execution_count": 12,
   "metadata": {},
   "outputs": [],
   "source": [
    "LEARNING_RATE = 1e-4 \n",
    "\n",
    "binary_cross_loss = tf.losses.BinaryCrossentropy()\n",
    "opt = tf.keras.optimizers.Adam(LEARNING_RATE)   # Learning rate = 0.001\n"
   ]
  },
  {
   "cell_type": "markdown",
   "metadata": {},
   "source": [
    "# Establish checkpoints"
   ]
  },
  {
   "cell_type": "code",
   "execution_count": 13,
   "metadata": {},
   "outputs": [],
   "source": [
    "checkpoint_dir = \"training_checkpoints\"\n",
    "checkpoint_prefix = os.path.join(checkpoint_dir, \"ckpt\")\n",
    "checkpoint = tf.train.Checkpoint(opt=opt, siamese_model = siamese_model)  # siamese_model is the model created above \n"
   ]
  },
  {
   "cell_type": "markdown",
   "metadata": {},
   "source": [
    "# Build train step function\n",
    "used to train one batch of data"
   ]
  },
  {
   "cell_type": "code",
   "execution_count": 14,
   "metadata": {},
   "outputs": [],
   "source": [
    "# siamese_model is the model created above \n",
    "\n",
    "# Compile this function into tensorflow graph (@tf.function)\n",
    "@tf.function\n",
    "def train_step(batch):\n",
    "    with tf.GradientTape() as tape:\n",
    "        X = batch[:2]  # [anchor, positive] or [anchor, negative]\n",
    "        y = batch[2]   # The label (0 or 1)\n",
    "\n",
    "        # Pass this to the siamese neural network \n",
    "        yhat = siamese_model(X, training=True)  # Predicted y, i.e. y-hat  (y^)\n",
    "        \n",
    "        # Calculate loss \n",
    "        loss = binary_cross_loss(y, yhat)   # Defined in \"set up loss and optimiser\" - pass the y ground truth (label) and the predicted y value\n",
    "\n",
    "    # Calculate gradients \n",
    "    grad = tape.gradient(loss, siamese_model.trainable_variables)\n",
    "\n",
    "    # Calculate updated weights and then apply to the siamese model\n",
    "    opt.apply_gradients(\n",
    "        zip(grad, siamese_model.trainable_variables)\n",
    "    )\n",
    "\n",
    "    # return the loss \n",
    "    return loss"
   ]
  },
  {
   "cell_type": "markdown",
   "metadata": {},
   "source": [
    "# Set up tensorboard logging"
   ]
  },
  {
   "cell_type": "code",
   "execution_count": 15,
   "metadata": {},
   "outputs": [],
   "source": [
    "import tensorflow as tf\n",
    "from datetime import datetime\n",
    "\n",
    "log_dir = \"logs/\" + datetime.now().strftime(\"%Y-%m-%d_%H-%M-%S\")\n",
    "# Create a summary writer\n",
    "summary_writer = tf.summary.create_file_writer(log_dir)"
   ]
  },
  {
   "cell_type": "markdown",
   "metadata": {},
   "source": [
    "# Set up precision and recall"
   ]
  },
  {
   "cell_type": "code",
   "execution_count": 16,
   "metadata": {},
   "outputs": [],
   "source": [
    "# Import precision and recall \n",
    "from tensorflow.keras.metrics import Precision, Recall \n",
    "\n",
    "# Initialise precision and recall\n",
    "precision = Precision()\n",
    "recall = Recall()"
   ]
  },
  {
   "cell_type": "markdown",
   "metadata": {},
   "source": [
    "# Build training loop"
   ]
  },
  {
   "cell_type": "code",
   "execution_count": 17,
   "metadata": {},
   "outputs": [],
   "source": [
    "def train(train_data, val_data, EPOCHS):\n",
    "    # For each epoch, loop through each batch and run train steps \n",
    "    step = 0\n",
    "    for epoch in range(1, EPOCHS+1):\n",
    "\n",
    "        print(f\"Epoch {epoch} of {EPOCHS}\" + \"\\n\")\n",
    "        progbar = tf.keras.utils.Progbar(len(train_data))\n",
    "\n",
    "        # Loop through each batch\n",
    "        # Train loop\n",
    "        train_loss_average = tf.keras.metrics.Mean()\n",
    "        for index, batch in enumerate(train_data):\n",
    "            loss = train_step(batch)\n",
    "            train_loss_average.update_state(loss)\n",
    "            progbar.update(index + 1)\n",
    "\n",
    "        # Val loop\n",
    "        val_loss_average = tf.keras.metrics.Mean()\n",
    "        precision_train = tf.keras.metrics.Precision()\n",
    "        recall_train = tf.keras.metrics.Recall()\n",
    "        for val_batch in val_data:\n",
    "            # Calculate loss for the validation data\n",
    "            X = val_batch[:2]  # [anchor, positive] or [anchor, negative]\n",
    "            y = val_batch[2]   # The label (0 or 1)\n",
    "            yhat = siamese_model(X, training=False)  # Predicted y, i.e. y-hat  (y^)\n",
    "            yhat_binary = tf.cast(yhat > 0.5, tf.float32)  # Convert to 0 or 1\n",
    "\n",
    "            # Calculate loss \n",
    "            loss = binary_cross_loss(y, yhat)\n",
    "            val_loss_average.update_state(loss)\n",
    "\n",
    "            # Update precision and recall\n",
    "            precision_train.update_state(y, yhat_binary)\n",
    "            recall_train.update_state(y, yhat_binary)\n",
    "\n",
    "        with summary_writer.as_default():\n",
    "            tf.summary.scalar('train_loss', float(train_loss_average.result()), step=step)\n",
    "            tf.summary.scalar('val_loss', float(val_loss_average.result()), step=step)\n",
    "            tf.summary.scalar('precision', float(precision_train.result()), step=step)\n",
    "            tf.summary.scalar('recall', float(recall_train.result()), step=step)\n",
    "\n",
    "        step += 1\n",
    "        \n",
    "        # Save checkpoints \n",
    "        if epoch % 10 == 0:\n",
    "            checkpoint.save(file_prefix=checkpoint_prefix)  # \"ckpt\"\n"
   ]
  },
  {
   "cell_type": "markdown",
   "metadata": {},
   "source": [
    "# Train the model"
   ]
  },
  {
   "cell_type": "code",
   "execution_count": 18,
   "metadata": {},
   "outputs": [
    {
     "name": "stdout",
     "output_type": "stream",
     "text": [
      "Epoch 1 of 50\n",
      "\n"
     ]
    },
    {
     "name": "stderr",
     "output_type": "stream",
     "text": [
      "2025-02-09 01:36:37.460988: I tensorflow/stream_executor/cuda/cuda_dnn.cc:384] Loaded cuDNN version 8100\n",
      "2025-02-09 01:36:44.051742: I tensorflow/core/platform/default/subprocess.cc:304] Start cannot spawn child process: No such file or directory\n",
      "2025-02-09 01:36:44.052981: I tensorflow/core/platform/default/subprocess.cc:304] Start cannot spawn child process: No such file or directory\n",
      "2025-02-09 01:36:44.053006: W tensorflow/stream_executor/gpu/asm_compiler.cc:80] Couldn't get ptxas version string: INTERNAL: Couldn't invoke ptxas --version\n",
      "2025-02-09 01:36:44.054077: I tensorflow/core/platform/default/subprocess.cc:304] Start cannot spawn child process: No such file or directory\n",
      "2025-02-09 01:36:44.054227: W tensorflow/stream_executor/gpu/redzone_allocator.cc:314] INTERNAL: Failed to launch ptxas\n",
      "Relying on driver to perform ptx compilation. \n",
      "Modify $PATH to customize ptxas location.\n",
      "This message will be only logged once.\n",
      "2025-02-09 01:36:48.991163: I tensorflow/stream_executor/cuda/cuda_blas.cc:1614] TensorFloat-32 will be used for the matrix multiplication. This will only be logged once.\n"
     ]
    },
    {
     "name": "stdout",
     "output_type": "stream",
     "text": [
      "25/25 [==============================] - 31s 447ms/step\n",
      "Epoch 2 of 50\n",
      "\n",
      "25/25 [==============================] - 10s 398ms/step\n",
      "Epoch 3 of 50\n",
      "\n",
      "25/25 [==============================] - 10s 394ms/step\n",
      "Epoch 4 of 50\n",
      "\n",
      "25/25 [==============================] - 10s 396ms/step\n",
      "Epoch 5 of 50\n",
      "\n",
      "25/25 [==============================] - 10s 389ms/step\n",
      "Epoch 6 of 50\n",
      "\n",
      "25/25 [==============================] - 10s 395ms/step\n",
      "Epoch 7 of 50\n",
      "\n",
      "25/25 [==============================] - 10s 393ms/step\n",
      "Epoch 8 of 50\n",
      "\n",
      "25/25 [==============================] - 10s 390ms/step\n",
      "Epoch 9 of 50\n",
      "\n",
      "25/25 [==============================] - 10s 387ms/step\n",
      "Epoch 10 of 50\n",
      "\n",
      "25/25 [==============================] - 10s 389ms/step\n",
      "Epoch 11 of 50\n",
      "\n",
      "25/25 [==============================] - 10s 387ms/step\n",
      "Epoch 12 of 50\n",
      "\n",
      "25/25 [==============================] - 10s 392ms/step\n",
      "Epoch 13 of 50\n",
      "\n",
      "25/25 [==============================] - 10s 389ms/step\n",
      "Epoch 14 of 50\n",
      "\n",
      "25/25 [==============================] - 10s 391ms/step\n",
      "Epoch 15 of 50\n",
      "\n",
      "25/25 [==============================] - 10s 390ms/step\n",
      "Epoch 16 of 50\n",
      "\n",
      "25/25 [==============================] - 10s 391ms/step\n",
      "Epoch 17 of 50\n",
      "\n",
      "25/25 [==============================] - 10s 388ms/step\n",
      "Epoch 18 of 50\n",
      "\n",
      "25/25 [==============================] - 10s 389ms/step\n",
      "Epoch 19 of 50\n",
      "\n",
      "25/25 [==============================] - 10s 389ms/step\n",
      "Epoch 20 of 50\n",
      "\n",
      "25/25 [==============================] - 10s 398ms/step\n",
      "Epoch 21 of 50\n",
      "\n",
      "25/25 [==============================] - 10s 397ms/step\n",
      "Epoch 22 of 50\n",
      "\n",
      "25/25 [==============================] - 10s 391ms/step\n",
      "Epoch 23 of 50\n",
      "\n",
      "25/25 [==============================] - 10s 393ms/step\n",
      "Epoch 24 of 50\n",
      "\n",
      "25/25 [==============================] - 10s 393ms/step\n",
      "Epoch 25 of 50\n",
      "\n",
      "25/25 [==============================] - 10s 392ms/step\n",
      "Epoch 26 of 50\n",
      "\n",
      "25/25 [==============================] - 10s 393ms/step\n",
      "Epoch 27 of 50\n",
      "\n",
      "25/25 [==============================] - 10s 391ms/step\n",
      "Epoch 28 of 50\n",
      "\n",
      "25/25 [==============================] - 10s 392ms/step\n",
      "Epoch 29 of 50\n",
      "\n",
      "25/25 [==============================] - 10s 391ms/step\n",
      "Epoch 30 of 50\n",
      "\n",
      "25/25 [==============================] - 10s 392ms/step\n",
      "Epoch 31 of 50\n",
      "\n",
      "25/25 [==============================] - 10s 392ms/step\n",
      "Epoch 32 of 50\n",
      "\n",
      "25/25 [==============================] - 10s 394ms/step\n",
      "Epoch 33 of 50\n",
      "\n",
      "25/25 [==============================] - 10s 394ms/step\n",
      "Epoch 34 of 50\n",
      "\n",
      "25/25 [==============================] - 10s 397ms/step\n",
      "Epoch 35 of 50\n",
      "\n",
      "25/25 [==============================] - 10s 398ms/step\n",
      "Epoch 36 of 50\n",
      "\n",
      "25/25 [==============================] - 10s 396ms/step\n",
      "Epoch 37 of 50\n",
      "\n",
      "25/25 [==============================] - 10s 396ms/step\n",
      "Epoch 38 of 50\n",
      "\n",
      "25/25 [==============================] - 10s 397ms/step\n",
      "Epoch 39 of 50\n",
      "\n",
      "25/25 [==============================] - 10s 397ms/step\n",
      "Epoch 40 of 50\n",
      "\n",
      "25/25 [==============================] - 10s 397ms/step\n",
      "Epoch 41 of 50\n",
      "\n",
      "25/25 [==============================] - 10s 398ms/step\n",
      "Epoch 42 of 50\n",
      "\n",
      "25/25 [==============================] - 10s 401ms/step\n",
      "Epoch 43 of 50\n",
      "\n",
      "25/25 [==============================] - 10s 394ms/step\n",
      "Epoch 44 of 50\n",
      "\n",
      "25/25 [==============================] - 10s 395ms/step\n",
      "Epoch 45 of 50\n",
      "\n",
      "25/25 [==============================] - 10s 396ms/step\n",
      "Epoch 46 of 50\n",
      "\n",
      "25/25 [==============================] - 10s 397ms/step\n",
      "Epoch 47 of 50\n",
      "\n",
      "25/25 [==============================] - 10s 400ms/step\n",
      "Epoch 48 of 50\n",
      "\n",
      "25/25 [==============================] - 10s 395ms/step\n",
      "Epoch 49 of 50\n",
      "\n",
      "25/25 [==============================] - 10s 397ms/step\n",
      "Epoch 50 of 50\n",
      "\n",
      "25/25 [==============================] - 10s 395ms/step\n"
     ]
    }
   ],
   "source": [
    "EPOCHS = 50\n",
    "\n",
    "# Train model here \n",
    "train(train_data, validation_data, EPOCHS)"
   ]
  },
  {
   "cell_type": "markdown",
   "metadata": {},
   "source": [
    "# Evaluate the model\n",
    "precision: How many positive predictions are correct\n",
    "recall: How many positive results are predicted correctly.\n",
    "\n",
    "A higher number is a better performance"
   ]
  },
  {
   "cell_type": "code",
   "execution_count": 19,
   "metadata": {},
   "outputs": [
    {
     "name": "stdout",
     "output_type": "stream",
     "text": [
      "1/1 [==============================] - 0s 216ms/step\n",
      "mouse_untrained_positive\n",
      "Expected = 1\n",
      "Predicted: [[False]]\n",
      "Confidence: [[0.27194875]]\n",
      "1/1 [==============================] - 0s 13ms/step\n",
      "earbuds_untrained_different_environment\n",
      "Expected = 1\n",
      "Predicted: [[False]]\n",
      "Confidence: [[0.13629556]]\n",
      "1/1 [==============================] - 0s 12ms/step\n",
      "light_untrained_positive\n",
      "Expected = 1\n",
      "Predicted: [[ True]]\n",
      "Confidence: [[0.87566483]]\n",
      "1/1 [==============================] - 0s 12ms/step\n",
      "power_bank_trained\n",
      "Expected = 1\n",
      "Predicted: [[ True]]\n",
      "Confidence: [[0.9996159]]\n",
      "1/1 [==============================] - 0s 13ms/step\n",
      "pen_trained_positive\n",
      "Expected = 1\n",
      "Predicted: [[False]]\n",
      "Confidence: [[0.47372305]]\n",
      "1/1 [==============================] - 0s 12ms/step\n",
      "stand_untrained_different_image_size\n",
      "Expected = 1\n",
      "Predicted: [[ True]]\n",
      "Confidence: [[0.72292656]]\n",
      "1/1 [==============================] - 0s 11ms/step\n",
      "mouse_untrained_negative\n",
      "Expected = 0\n",
      "Predicted: [[ True]]\n",
      "Confidence: [[0.854282]]\n",
      "1/1 [==============================] - 0s 12ms/step\n",
      "power_bank_trained\n",
      "Expected = 0\n",
      "Predicted: [[False]]\n",
      "Confidence: [[0.00022104]]\n",
      "1/1 [==============================] - 0s 12ms/step\n",
      "pen_trained_negative\n",
      "Expected = 0\n",
      "Predicted: [[ True]]\n",
      "Confidence: [[0.948094]]\n",
      "1/1 [==============================] - 0s 12ms/step\n",
      "completely_unrelated\n",
      "Expected = 0\n",
      "Predicted: [[False]]\n",
      "Confidence: [[0.20413953]]\n"
     ]
    }
   ],
   "source": [
    "# Run the model on the test data \n",
    "for (category, test_image_1, test_image_2, label) in data_raw_test:\n",
    "    p1 = tf.expand_dims(preprocess(test_image_1), axis = 0)   # Make the batch size 1\n",
    "    p2 = tf.expand_dims(preprocess(test_image_2), axis = 0)\n",
    "\n",
    "    # Make predictions and compare to ground truth\n",
    "    yhat = siamese_model.predict([p1, p2])\n",
    "    y_true = tf.convert_to_tensor([label], dtype=tf.float32)\n",
    "\n",
    "    # Postprocess them based on a threshold \n",
    "    THRESHOLD = 0.5 \n",
    "\n",
    "    print(f\"{category}\")\n",
    "    print(f\"Expected = {label}\")\n",
    "    print(f\"Predicted: {yhat >= THRESHOLD}\")\n",
    "    print(f\"Confidence: {yhat}\")\n",
    "\n",
    "    # Update the precision and recall value \n",
    "    precision.update_state(y_true, yhat)\n",
    "    recall.update_state(y_true, yhat)"
   ]
  },
  {
   "cell_type": "code",
   "execution_count": 20,
   "metadata": {},
   "outputs": [
    {
     "name": "stdout",
     "output_type": "stream",
     "text": [
      "Precision: 0.6000000238418579\n",
      "Recall: 0.5\n"
     ]
    }
   ],
   "source": [
    "print(f\"Precision: {precision.result().numpy()}\")\n",
    "print(f\"Recall: {recall.result().numpy()}\")"
   ]
  },
  {
   "cell_type": "markdown",
   "metadata": {},
   "source": [
    "# Save and load the model to the \"model\" variable"
   ]
  },
  {
   "cell_type": "code",
   "execution_count": 21,
   "metadata": {},
   "outputs": [
    {
     "name": "stdout",
     "output_type": "stream",
     "text": [
      "WARNING:tensorflow:Compiled the loaded model, but the compiled metrics have yet to be built. `model.compile_metrics` will be empty until you train or evaluate the model.\n"
     ]
    }
   ],
   "source": [
    "MODEL_OUTPUT_NAME = \"siameseModel\"\n",
    "\n",
    "siamese_model.save(MODEL_OUTPUT_NAME + \".h5\")"
   ]
  },
  {
   "cell_type": "code",
   "execution_count": 22,
   "metadata": {},
   "outputs": [
    {
     "name": "stdout",
     "output_type": "stream",
     "text": [
      "WARNING:tensorflow:No training configuration found in the save file, so the model was *not* compiled. Compile it manually.\n"
     ]
    }
   ],
   "source": [
    "# Reload the model:\n",
    "model = tf.keras.models.load_model(MODEL_OUTPUT_NAME + \".h5\", \n",
    "                                   custom_objects={\n",
    "                                       \"L1Dist\": L1Dist,    # From \"Build distance layer\" - it is a custom layer in = L1Dist()\n",
    "                                       \"BinaryCrossentropy\": tf.losses.BinaryCrossentropy\n",
    "                                       }\n",
    "                                   )"
   ]
  },
  {
   "cell_type": "markdown",
   "metadata": {},
   "source": [
    "# Output the model as .tflite file\n",
    "this may take a while"
   ]
  },
  {
   "cell_type": "code",
   "execution_count": 23,
   "metadata": {},
   "outputs": [
    {
     "data": {
      "text/plain": [
       "'\\nimport tensorflow as tf\\n\\nconverter = tf.lite.TFLiteConverter.from_keras_model(model)\\ntflite_model = converter.convert()\\ntflite_filename = MODEL_OUTPUT_NAME + \".tflite\"\\nwith open(tflite_filename, \"wb\") as f:\\n    f.write(tflite_model)\\n'"
      ]
     },
     "execution_count": 23,
     "metadata": {},
     "output_type": "execute_result"
    }
   ],
   "source": [
    "\"\"\"\n",
    "import tensorflow as tf\n",
    "\n",
    "converter = tf.lite.TFLiteConverter.from_keras_model(model)\n",
    "tflite_model = converter.convert()\n",
    "tflite_filename = MODEL_OUTPUT_NAME + \".tflite\"\n",
    "with open(tflite_filename, \"wb\") as f:\n",
    "    f.write(tflite_model)\n",
    "\"\"\"\n"
   ]
  }
 ],
 "metadata": {
  "kernelspec": {
   "display_name": "tfvenv",
   "language": "python",
   "name": "python3"
  },
  "language_info": {
   "codemirror_mode": {
    "name": "ipython",
    "version": 3
   },
   "file_extension": ".py",
   "mimetype": "text/x-python",
   "name": "python",
   "nbconvert_exporter": "python",
   "pygments_lexer": "ipython3",
   "version": "3.9.21"
  }
 },
 "nbformat": 4,
 "nbformat_minor": 2
}
