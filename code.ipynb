{
 "cells": [
  {
   "cell_type": "code",
   "execution_count": 1,
   "metadata": {},
   "outputs": [
    {
     "name": "stdout",
     "output_type": "stream",
     "text": [
      "nvcc: NVIDIA (R) Cuda compiler driver\n",
      "Copyright (c) 2005-2020 NVIDIA Corporation\n",
      "Built on Mon_Nov_30_19:08:53_PST_2020\n",
      "Cuda compilation tools, release 11.2, V11.2.67\n",
      "Build cuda_11.2.r11.2/compiler.29373293_0\n",
      "Sun Feb  9 14:26:49 2025       \n",
      "+-----------------------------------------------------------------------------------------+\n",
      "| NVIDIA-SMI 550.144.03             Driver Version: 550.144.03     CUDA Version: 12.4     |\n",
      "|-----------------------------------------+------------------------+----------------------+\n",
      "| GPU  Name                 Persistence-M | Bus-Id          Disp.A | Volatile Uncorr. ECC |\n",
      "| Fan  Temp   Perf          Pwr:Usage/Cap |           Memory-Usage | GPU-Util  Compute M. |\n",
      "|                                         |                        |               MIG M. |\n",
      "|=========================================+========================+======================|\n",
      "|   0  NVIDIA GeForce RTX 3060        Off |   00000000:01:00.0  On |                  N/A |\n",
      "|  0%   48C    P3             35W /  170W |     752MiB /  12288MiB |     11%      Default |\n",
      "|                                         |                        |                  N/A |\n",
      "+-----------------------------------------+------------------------+----------------------+\n",
      "                                                                                         \n",
      "+-----------------------------------------------------------------------------------------+\n",
      "| Processes:                                                                              |\n",
      "|  GPU   GI   CI        PID   Type   Process name                              GPU Memory |\n",
      "|        ID   ID                                                               Usage      |\n",
      "|=========================================================================================|\n",
      "|    0   N/A  N/A     53069      G   /usr/libexec/Xorg                             181MiB |\n",
      "|    0   N/A  N/A     53188      G   /usr/bin/gnome-shell                          169MiB |\n",
      "|    0   N/A  N/A     53459      G   kalendarac                                      2MiB |\n",
      "|    0   N/A  N/A     53800      G   /usr/lib64/firefox/firefox                    174MiB |\n",
      "|    0   N/A  N/A     54299      G   ...erProcess --variations-seed-version        210MiB |\n",
      "+-----------------------------------------------------------------------------------------+\n"
     ]
    }
   ],
   "source": [
    "!source /etc/profile.d/modules.sh\n",
    "!module load CUDA/11.2\n",
    "!export PATH=/local/java/cuda-11.2/bin:$PATH\n",
    "!export LD_LIBRARY_PATH=/local/java/cuda-11.2/lib64:/local/java/cudnn-8.1_for_cuda_11.2/lib64:$LD_LIBRARY_PATH  # this line is needed for it to recognise gpu devices -- run this in the terminal\n",
    "!export CUDA_HOME=/local/java/cuda-11.2\n",
    "!/local/java/cuda-11.2/bin/nvcc --version\n",
    "!nvidia-smi"
   ]
  },
  {
   "cell_type": "code",
   "execution_count": 2,
   "metadata": {},
   "outputs": [
    {
     "name": "stderr",
     "output_type": "stream",
     "text": [
      "2025-02-09 14:26:49.425052: I tensorflow/core/platform/cpu_feature_guard.cc:193] This TensorFlow binary is optimized with oneAPI Deep Neural Network Library (oneDNN) to use the following CPU instructions in performance-critical operations:  AVX2 AVX_VNNI FMA\n",
      "To enable them in other operations, rebuild TensorFlow with the appropriate compiler flags.\n",
      "2025-02-09 14:26:49.500520: I tensorflow/core/util/util.cc:169] oneDNN custom operations are on. You may see slightly different numerical results due to floating-point round-off errors from different computation orders. To turn them off, set the environment variable `TF_ENABLE_ONEDNN_OPTS=0`.\n",
      "2025-02-09 14:26:49.522595: E tensorflow/stream_executor/cuda/cuda_blas.cc:2981] Unable to register cuBLAS factory: Attempting to register factory for plugin cuBLAS when one has already been registered\n",
      "2025-02-09 14:26:50.640656: W tensorflow/stream_executor/platform/default/dso_loader.cc:64] Could not load dynamic library 'libnvinfer.so.7'; dlerror: libnvinfer.so.7: cannot open shared object file: No such file or directory; LD_LIBRARY_PATH: /local/java/cuda-11.2/lib64:/local/java/cudnn-8.1_for_cuda_11.2/lib64:/local/java/cuda-11.2/lib64:/local/java/cudnn-8.1_for_cuda_11.2/lib64:/local/java/cuda-11.2/lib64:/local/java/cudnn-8.1_for_cuda_11.2/lib64:/local/java/cuda-11.2/lib64:/local/java/cudnn-8.1_for_cuda_11.2/lib64:/local/java/cuda-11.2/lib64:/local/java/cudnn-8.1_for_cuda_11.2/lib64:/local/java/cuda-11.2/lib64:/local/java/cudnn-8.1_for_cuda_11.2/lib64:\n",
      "2025-02-09 14:26:50.640803: W tensorflow/stream_executor/platform/default/dso_loader.cc:64] Could not load dynamic library 'libnvinfer_plugin.so.7'; dlerror: libnvinfer_plugin.so.7: cannot open shared object file: No such file or directory; LD_LIBRARY_PATH: /local/java/cuda-11.2/lib64:/local/java/cudnn-8.1_for_cuda_11.2/lib64:/local/java/cuda-11.2/lib64:/local/java/cudnn-8.1_for_cuda_11.2/lib64:/local/java/cuda-11.2/lib64:/local/java/cudnn-8.1_for_cuda_11.2/lib64:/local/java/cuda-11.2/lib64:/local/java/cudnn-8.1_for_cuda_11.2/lib64:/local/java/cuda-11.2/lib64:/local/java/cudnn-8.1_for_cuda_11.2/lib64:/local/java/cuda-11.2/lib64:/local/java/cudnn-8.1_for_cuda_11.2/lib64:\n",
      "2025-02-09 14:26:50.640814: W tensorflow/compiler/tf2tensorrt/utils/py_utils.cc:38] TF-TRT Warning: Cannot dlopen some TensorRT libraries. If you would like to use Nvidia GPU with TensorRT, please make sure the missing libraries mentioned above are installed properly.\n"
     ]
    },
    {
     "name": "stdout",
     "output_type": "stream",
     "text": [
      "2.10.0\n",
      "[PhysicalDevice(name='/physical_device:GPU:0', device_type='GPU')]\n"
     ]
    },
    {
     "name": "stderr",
     "output_type": "stream",
     "text": [
      "2025-02-09 14:26:53.638592: I tensorflow/stream_executor/cuda/cuda_gpu_executor.cc:980] successful NUMA node read from SysFS had negative value (-1), but there must be at least one NUMA node, so returning NUMA node zero\n",
      "2025-02-09 14:26:53.647193: I tensorflow/stream_executor/cuda/cuda_gpu_executor.cc:980] successful NUMA node read from SysFS had negative value (-1), but there must be at least one NUMA node, so returning NUMA node zero\n",
      "2025-02-09 14:26:53.647283: I tensorflow/stream_executor/cuda/cuda_gpu_executor.cc:980] successful NUMA node read from SysFS had negative value (-1), but there must be at least one NUMA node, so returning NUMA node zero\n"
     ]
    }
   ],
   "source": [
    "import os \n",
    "import tensorflow as tf\n",
    "\n",
    "import matplotlib.pyplot as plt \n",
    "from tensorflow.keras.models import Model \n",
    "from tensorflow.keras.layers import Layer, Conv2D, Dense, MaxPooling2D, Input, Flatten, Lambda\n",
    "\n",
    "from keras import backend as K\n",
    "\n",
    "print(tf.__version__)  # 2.12.0\n",
    "print(tf.config.list_physical_devices('GPU'))  # should show gpu available\n"
   ]
  },
  {
   "cell_type": "markdown",
   "metadata": {},
   "source": [
    "# Get images as (anchor, second_image, label)\n",
    "1 if second image is positive, 0 if negative"
   ]
  },
  {
   "cell_type": "code",
   "execution_count": 3,
   "metadata": {},
   "outputs": [
    {
     "data": {
      "text/plain": [
       "[('mouse_untrained_positive',\n",
       "  'test/positive/mouse_untrained_positive/20250131_014405.jpg',\n",
       "  'test/positive/mouse_untrained_positive/20250129_125729.jpg',\n",
       "  1),\n",
       " ('earbuds_untrained_different_environment',\n",
       "  'test/positive/earbuds_untrained_different_environment/20250131_030121.jpg',\n",
       "  'test/positive/earbuds_untrained_different_environment/20250131_030103.jpg',\n",
       "  1),\n",
       " ('light_untrained_positive',\n",
       "  'test/positive/light_untrained_positive/20250131_025753.jpg',\n",
       "  'test/positive/light_untrained_positive/20250131_025818.jpg',\n",
       "  1),\n",
       " ('power_bank_trained',\n",
       "  'test/positive/power_bank_trained/s-l1200.jpg',\n",
       "  'test/positive/power_bank_trained/20250204_204406.jpg',\n",
       "  1),\n",
       " ('pen_trained_positive',\n",
       "  'test/positive/pen_trained_positive/20250131_014147.jpg',\n",
       "  'test/positive/pen_trained_positive/20250131_014155.jpg',\n",
       "  1),\n",
       " ('stand_untrained_different_image_size',\n",
       "  'test/positive/stand_untrained_different_image_size/20250131_030323.jpg',\n",
       "  'test/positive/stand_untrained_different_image_size/20250131_030315.jpg',\n",
       "  1),\n",
       " ('mouse_untrained_negative',\n",
       "  'test/negative/mouse_untrained_negative/20250129_200824.jpg',\n",
       "  'test/negative/mouse_untrained_negative/20250131_014405.jpg',\n",
       "  0),\n",
       " ('power_bank_trained',\n",
       "  'test/negative/power_bank_trained/20250204_203223.jpg',\n",
       "  'test/negative/power_bank_trained/20250204_190453.jpg',\n",
       "  0),\n",
       " ('pen_trained_negative',\n",
       "  'test/negative/pen_trained_negative/20250131_001144.jpg',\n",
       "  'test/negative/pen_trained_negative/20250131_014155.jpg',\n",
       "  0),\n",
       " ('completely_unrelated',\n",
       "  'test/negative/completely_unrelated/20250131_001000.jpg',\n",
       "  'test/negative/completely_unrelated/20250130_180020.jpg',\n",
       "  0)]"
      ]
     },
     "execution_count": 3,
     "metadata": {},
     "output_type": "execute_result"
    }
   ],
   "source": [
    "TRAIN_PATH = \"train\"\n",
    "TEST_PATH = \"test\"\n",
    "\n",
    "positive_pairs_train = []\n",
    "negative_pairs_train = []\n",
    "\n",
    "# Anchor images are in train/directory/anchor for each directory\n",
    "for category in os.listdir(TRAIN_PATH):\n",
    "    anchor_dir = os.path.join(TRAIN_PATH, category, \"anchor\")\n",
    "    positive_dir = os.path.join(TRAIN_PATH, category, \"positive\")\n",
    "    negative_dir = os.path.join(TRAIN_PATH, category, \"negative\")\n",
    "\n",
    "    anchor_list = [os.path.join(anchor_dir, f) for f in os.listdir(anchor_dir)]\n",
    "    positive_list = [os.path.join(positive_dir, f) for f in os.listdir(positive_dir)]\n",
    "    negative_list = [os.path.join(negative_dir, f) for f in os.listdir(negative_dir)]\n",
    "\n",
    "    # Within each category directory, match each anchor with each positive and negative \n",
    "    positive_pairs_train += [(a, p, 1) for a in anchor_list for p in positive_list]\n",
    "    negative_pairs_train += [(a, n, 0) for a in anchor_list for n in negative_list]\n",
    "\n",
    "data_raw_train = positive_pairs_train + negative_pairs_train \n",
    "\n",
    "# Do the same for test images\n",
    "positive_pairs_test = []\n",
    "negative_pairs_test = []\n",
    "\n",
    "test_path_positive = os.path.join(TEST_PATH, \"positive\")\n",
    "test_path_negative = os.path.join(TEST_PATH, \"negative\")\n",
    "\n",
    "for category in os.listdir(test_path_positive):\n",
    "    dirs = os.listdir(os.path.join(test_path_positive, category))\n",
    "    first_dir = os.path.join(test_path_positive, category, dirs[0])\n",
    "    second_dir = os.path.join(test_path_positive, category, dirs[1])\n",
    "    positive_pairs_test.append((category, first_dir, second_dir, 1))\n",
    "\n",
    "for category in os.listdir(test_path_negative):\n",
    "    dirs = os.listdir(os.path.join(test_path_negative, category))\n",
    "    first_dir = os.path.join(test_path_negative, category, dirs[0])\n",
    "    second_dir = os.path.join(test_path_negative, category, dirs[1])\n",
    "    negative_pairs_test.append((category, first_dir, second_dir, 0))\n",
    "\n",
    "data_raw_test = positive_pairs_test + negative_pairs_test\n",
    "\n",
    "data_raw_test"
   ]
  },
  {
   "cell_type": "markdown",
   "metadata": {},
   "source": [
    "# Preprocess images"
   ]
  },
  {
   "cell_type": "code",
   "execution_count": 4,
   "metadata": {},
   "outputs": [
    {
     "name": "stderr",
     "output_type": "stream",
     "text": [
      "2025-02-09 14:26:53.719758: I tensorflow/core/platform/cpu_feature_guard.cc:193] This TensorFlow binary is optimized with oneAPI Deep Neural Network Library (oneDNN) to use the following CPU instructions in performance-critical operations:  AVX2 AVX_VNNI FMA\n",
      "To enable them in other operations, rebuild TensorFlow with the appropriate compiler flags.\n",
      "2025-02-09 14:26:53.721660: I tensorflow/stream_executor/cuda/cuda_gpu_executor.cc:980] successful NUMA node read from SysFS had negative value (-1), but there must be at least one NUMA node, so returning NUMA node zero\n",
      "2025-02-09 14:26:53.721977: I tensorflow/stream_executor/cuda/cuda_gpu_executor.cc:980] successful NUMA node read from SysFS had negative value (-1), but there must be at least one NUMA node, so returning NUMA node zero\n",
      "2025-02-09 14:26:53.722152: I tensorflow/stream_executor/cuda/cuda_gpu_executor.cc:980] successful NUMA node read from SysFS had negative value (-1), but there must be at least one NUMA node, so returning NUMA node zero\n",
      "2025-02-09 14:26:54.021444: I tensorflow/stream_executor/cuda/cuda_gpu_executor.cc:980] successful NUMA node read from SysFS had negative value (-1), but there must be at least one NUMA node, so returning NUMA node zero\n",
      "2025-02-09 14:26:54.021557: I tensorflow/stream_executor/cuda/cuda_gpu_executor.cc:980] successful NUMA node read from SysFS had negative value (-1), but there must be at least one NUMA node, so returning NUMA node zero\n",
      "2025-02-09 14:26:54.021616: I tensorflow/stream_executor/cuda/cuda_gpu_executor.cc:980] successful NUMA node read from SysFS had negative value (-1), but there must be at least one NUMA node, so returning NUMA node zero\n",
      "2025-02-09 14:26:54.021690: I tensorflow/core/common_runtime/gpu/gpu_device.cc:1616] Created device /job:localhost/replica:0/task:0/device:GPU:0 with 9507 MB memory:  -> device: 0, name: NVIDIA GeForce RTX 3060, pci bus id: 0000:01:00.0, compute capability: 8.6\n"
     ]
    },
    {
     "data": {
      "text/plain": [
       "<matplotlib.image.AxesImage at 0x7f465352e4f0>"
      ]
     },
     "execution_count": 4,
     "metadata": {},
     "output_type": "execute_result"
    },
    {
     "data": {
      "image/png": "[encoded data removed]",
      "text/plain": [
       "<Figure size 640x480 with 1 Axes>"
      ]
     },
     "metadata": {},
     "output_type": "display_data"
    }
   ],
   "source": [
    "def preprocess(image_path):\n",
    "    byte_img = tf.io.read_file(image_path)\n",
    "    img = tf.io.decode_jpeg(byte_img)\n",
    "    img = tf.image.resize(img, (105, 105))  # Resize to 105x105\n",
    "    img = img[:, :, :3]  # Keep 3 channels\n",
    "    img = img / 255.0  # Scale image between 0 and 1\n",
    "    return img \n",
    "\n",
    "# The first anchor image is shown\n",
    "test = preprocess(data_raw_train[0][0])\n",
    "plt.imshow(test)"
   ]
  },
  {
   "cell_type": "markdown",
   "metadata": {},
   "source": [
    "# Create labelled dataset (1 and 0)"
   ]
  },
  {
   "cell_type": "code",
   "execution_count": 5,
   "metadata": {},
   "outputs": [],
   "source": [
    "\n",
    "# Convert to tf dataset \n",
    "def convert_to_tf_dataset(data_raw):\n",
    "    i1_paths, i2_paths, labels = zip(*data_raw)\n",
    "    i1_dataset = tf.data.Dataset.from_tensor_slices(list(i1_paths)).map(preprocess)  # Preprocess the images \n",
    "    i2_dataset = tf.data.Dataset.from_tensor_slices(list(i2_paths)).map(preprocess)\n",
    "    label_dataset = tf.data.Dataset.from_tensor_slices(list(labels))\n",
    "\n",
    "    dataset = tf.data.Dataset.zip((i1_dataset, i2_dataset, label_dataset))\n",
    "    dataset = dataset.cache()\n",
    "    dataset = dataset.shuffle(buffer_size=1024)\n",
    "\n",
    "    return dataset"
   ]
  },
  {
   "cell_type": "code",
   "execution_count": 6,
   "metadata": {},
   "outputs": [
    {
     "name": "stdout",
     "output_type": "stream",
     "text": [
      "1\n"
     ]
    },
    {
     "data": {
      "text/plain": [
       "<ShuffleDataset element_spec=(TensorSpec(shape=(105, 105, None), dtype=tf.float32, name=None), TensorSpec(shape=(105, 105, None), dtype=tf.float32, name=None), TensorSpec(shape=(), dtype=tf.int32, name=None))>"
      ]
     },
     "execution_count": 6,
     "metadata": {},
     "output_type": "execute_result"
    },
    {
     "data": {
      "image/png": "[encoded data removed]",
      "text/plain": [
       "<Figure size 640x480 with 1 Axes>"
      ]
     },
     "metadata": {},
     "output_type": "display_data"
    }
   ],
   "source": [
    "# Convert to tf dataset \n",
    "dataset_train = convert_to_tf_dataset(data_raw_train)\n",
    "\n",
    "# Check \n",
    "samples = dataset_train.as_numpy_iterator()\n",
    "next = samples.next()\n",
    "print(next[2])  # next[0] is the anchor, next[1] is the positive, next[2] is the negative\n",
    "# Hence, if 1 is printed, the image is positive, else the image should be negative:\n",
    "plt.imshow(next[1])\n",
    "\n",
    "# Should show a different image everytime \n",
    "dataset_train  "
   ]
  },
  {
   "cell_type": "markdown",
   "metadata": {},
   "source": [
    "# Create the train_data"
   ]
  },
  {
   "cell_type": "code",
   "execution_count": 7,
   "metadata": {},
   "outputs": [
    {
     "name": "stdout",
     "output_type": "stream",
     "text": [
      "569\n",
      "25\n",
      "11\n",
      "<PrefetchDataset element_spec=(TensorSpec(shape=(None, 105, 105, None), dtype=tf.float32, name=None), TensorSpec(shape=(None, 105, 105, None), dtype=tf.float32, name=None), TensorSpec(shape=(None,), dtype=tf.int32, name=None))>\n",
      "3\n",
      "16\n"
     ]
    }
   ],
   "source": [
    "# Number of anchors in each anchor dir * (Number of positives in each positive dir + Number of negatives in each negative dir) * Number of categories\n",
    "print(len(dataset_train))\n",
    "\n",
    "BATCH_SIZE = 16\n",
    "\n",
    "# Split the train dataset into train data (7) and validation data (3)\n",
    "train_data = dataset_train.take(round(len(dataset_train)*.7))  # Take all train data\n",
    "train_data = train_data.batch(BATCH_SIZE)\n",
    "train_data = train_data.prefetch(8)\n",
    "\n",
    "validation_data = dataset_train.skip(round(len(dataset_train)*.7))\n",
    "validation_data = validation_data.take(round(len(dataset_train)*.3))\n",
    "validation_data = validation_data.batch(BATCH_SIZE)\n",
    "validation_data = validation_data.prefetch(8)\n",
    "\n",
    "# Print the length of train data and validation data\n",
    "print(len(train_data))\n",
    "print(len(validation_data))\n",
    "\n",
    "# Check\n",
    "train_sample = train_data.as_numpy_iterator().next()\n",
    "print(train_data)\n",
    "print(len(train_sample))  # 3\n",
    "print(len(train_sample[0]))  # = BATCH_SIZE"
   ]
  },
  {
   "cell_type": "markdown",
   "metadata": {},
   "source": [
    "# Build embedding layer"
   ]
  },
  {
   "cell_type": "code",
   "execution_count": 8,
   "metadata": {},
   "outputs": [
    {
     "name": "stdout",
     "output_type": "stream",
     "text": [
      "Model: \"model\"\n",
      "_________________________________________________________________\n",
      " Layer (type)                Output Shape              Param #   \n",
      "=================================================================\n",
      " input_1 (InputLayer)        [(None, 105, 105, 3)]     0         \n",
      "                                                                 \n",
      " conv2d (Conv2D)             (None, 95, 95, 96)        34944     \n",
      "                                                                 \n",
      " batch_normalization (BatchN  (None, 95, 95, 96)       384       \n",
      " ormalization)                                                   \n",
      "                                                                 \n",
      " activation (Activation)     (None, 95, 95, 96)        0         \n",
      "                                                                 \n",
      " max_pooling2d_1 (MaxPooling  (None, 31, 31, 96)       0         \n",
      " 2D)                                                             \n",
      "                                                                 \n",
      " dropout (Dropout)           (None, 31, 31, 96)        0         \n",
      "                                                                 \n",
      " conv2d_2 (Conv2D)           (None, 29, 29, 384)       332160    \n",
      "                                                                 \n",
      " activation_2 (Activation)   (None, 29, 29, 384)       0         \n",
      "                                                                 \n",
      " conv2d_3 (Conv2D)           (None, 27, 27, 256)       884992    \n",
      "                                                                 \n",
      " activation_3 (Activation)   (None, 27, 27, 256)       0         \n",
      "                                                                 \n",
      " max_pooling2d_2 (MaxPooling  (None, 9, 9, 256)        0         \n",
      " 2D)                                                             \n",
      "                                                                 \n",
      " dropout_1 (Dropout)         (None, 9, 9, 256)         0         \n",
      "                                                                 \n",
      " flatten (Flatten)           (None, 20736)             0         \n",
      "                                                                 \n",
      " dense (Dense)               (None, 1024)              21234688  \n",
      "                                                                 \n",
      " dropout_2 (Dropout)         (None, 1024)              0         \n",
      "                                                                 \n",
      " dense_1 (Dense)             (None, 128)               131200    \n",
      "                                                                 \n",
      "=================================================================\n",
      "Total params: 22,618,368\n",
      "Trainable params: 22,618,176\n",
      "Non-trainable params: 192\n",
      "_________________________________________________________________\n"
     ]
    }
   ],
   "source": [
    "\n",
    "from keras.layers import Conv2D, MaxPooling2D, Dense, Activation, BatchNormalization, Input, Dropout, Flatten\n",
    "def make_embedding():\n",
    "  input = Input(shape=(105,105,3))\n",
    "  \n",
    "  conv_1 = Conv2D(filters=96, kernel_size=(11,11))(input)\n",
    "  batch_norm_1 = BatchNormalization()(conv_1)\n",
    "  activation_1 = Activation('relu')(batch_norm_1)\n",
    "  max_pool_1 = MaxPooling2D(pool_size=(3,3))(activation_1)\n",
    "  \n",
    "  conv_2 = Conv2D(filters=256, kernel_size=(5,5))(max_pool_1)\n",
    "  batch_norm_2 = BatchNormalization()(conv_2)\n",
    "  activation_2 = Activation('relu')(batch_norm_2)\n",
    "  max_pool_2 = MaxPooling2D(pool_size=(3,3))(activation_1)\n",
    "  \n",
    "  dropout_1 = Dropout(rate=0.3)(max_pool_2)\n",
    "  \n",
    "  conv_3_a = Conv2D(filters=384, kernel_size=(3,3))(dropout_1)\n",
    "  activation_3_a = Activation('relu')(conv_3_a)\n",
    "  conv_3_b = Conv2D(filters=256, kernel_size=(3,3))(activation_3_a)\n",
    "  activation_3_b = Activation('relu')(conv_3_b)\n",
    "  max_pool_3 = MaxPooling2D(pool_size=(3,3))(activation_3_b)\n",
    "  \n",
    "  dropout_2 = Dropout(rate=0.3)(max_pool_3)\n",
    "  \n",
    "  flat_1 = Flatten()(dropout_2)\n",
    "  fc_1 = Dense(units=1024,activation='relu')(flat_1)\n",
    "  dropout_3 = Dropout(rate=0.5)(fc_1)\n",
    "  fc_2 = Dense(units=128,activation='relu')(dropout_3)\n",
    "  return Model(input,fc_2)\n",
    "\n",
    "# Create model\n",
    "embedding = make_embedding()\n",
    "embedding.summary()"
   ]
  },
  {
   "cell_type": "markdown",
   "metadata": {},
   "source": [
    "# Build distance layer"
   ]
  },
  {
   "cell_type": "code",
   "execution_count": 9,
   "metadata": {},
   "outputs": [],
   "source": [
    "class L1Dist(Layer):\n",
    "    def __init__(self, **kwargs):\n",
    "        super().__init__()\n",
    "    \n",
    "    # L1 distance (Similarity calculation)\n",
    "    def call(self, input_embedding, validation_embedding):\n",
    "        return tf.math.abs(input_embedding - validation_embedding)\n",
    "    \n",
    "l1 = L1Dist()"
   ]
  },
  {
   "cell_type": "markdown",
   "metadata": {},
   "source": [
    "# Make siamese model"
   ]
  },
  {
   "cell_type": "code",
   "execution_count": null,
   "metadata": {},
   "outputs": [],
   "source": [
    "LEARNING_RATE = 1e-4 \n",
    "opt = tf.keras.optimizers.Adam(LEARNING_RATE)   # Learning rate = 0.001\n",
    "\n",
    "def euclidean_distance(vects):\n",
    "    x, y = vects\n",
    "    return K.sqrt(K.sum(K.square(x - y), axis=1, keepdims=True))\n",
    "\n",
    "MARGIN = 1\n",
    "def contrastive_loss(y_true, y_pred):\n",
    "    # y_pred is the euclidean distance between embeddings!\n",
    "    y_true = K.cast(y_true, dtype=\"float32\")\n",
    "    square_pred = K.square(y_pred)\n",
    "    margin_square = K.square(K.maximum(MARGIN-y_pred, 0))\n",
    "    return K.mean(y_true*square_pred + (1-y_true)*margin_square)\n",
    "    \n"
   ]
  },
  {
   "cell_type": "code",
   "execution_count": 11,
   "metadata": {},
   "outputs": [
    {
     "name": "stdout",
     "output_type": "stream",
     "text": [
      "Model: \"model_2\"\n",
      "__________________________________________________________________________________________________\n",
      " Layer (type)                   Output Shape         Param #     Connected to                     \n",
      "==================================================================================================\n",
      " input_img (InputLayer)         [(None, 105, 105, 3  0           []                               \n",
      "                                )]                                                                \n",
      "                                                                                                  \n",
      " validation_img (InputLayer)    [(None, 105, 105, 3  0           []                               \n",
      "                                )]                                                                \n",
      "                                                                                                  \n",
      " model_1 (Functional)           (None, 128)          22618368    ['input_img[0][0]',              \n",
      "                                                                  'validation_img[0][0]']         \n",
      "                                                                                                  \n",
      " lambda (Lambda)                (None, 1)            0           ['model_1[0][0]',                \n",
      "                                                                  'model_1[1][0]']                \n",
      "                                                                                                  \n",
      "==================================================================================================\n",
      "Total params: 22,618,368\n",
      "Trainable params: 22,618,176\n",
      "Non-trainable params: 192\n",
      "__________________________________________________________________________________________________\n"
     ]
    }
   ],
   "source": [
    "def make_siamese_model():\n",
    "    # Get the input images\n",
    "    input_image = Input(name=\"input_img\", shape=(105, 105, 3))\n",
    "    validation_image = Input(name=\"validation_img\", shape=(105, 105, 3))\n",
    "\n",
    "    embedding_model = make_embedding()  # Create the embedding model once\n",
    "\n",
    "    embedding1 = embedding_model(input_image)  # Pass the image through the model\n",
    "    embedding2 = embedding_model(validation_image)\n",
    "\n",
    "    # Compute Euclidean distance between embeddings\n",
    "    distance = Lambda(euclidean_distance)([embedding1, embedding2])\n",
    "\n",
    "    # Define the Siamese model\n",
    "    siamese_model = Model(inputs=[input_image, validation_image], outputs=distance)\n",
    "\n",
    "    # Compile the model with contrastive loss\n",
    "    siamese_model.compile(loss=contrastive_loss, optimizer=\"adam\")\n",
    "\n",
    "    return siamese_model\n",
    "\n",
    "\n",
    "# First goes through embedding (Hidden) layers, then passed to distance layer and finally dense (output) layer \n",
    "siamese_model = make_siamese_model()\n",
    "siamese_model.summary()\n",
    "    "
   ]
  },
  {
   "cell_type": "markdown",
   "metadata": {},
   "source": [
    "# Set up loss and optimiser"
   ]
  },
  {
   "cell_type": "markdown",
   "metadata": {},
   "source": [
    "# Establish checkpoints"
   ]
  },
  {
   "cell_type": "code",
   "execution_count": 12,
   "metadata": {},
   "outputs": [],
   "source": [
    "checkpoint_dir = \"training_checkpoints\"\n",
    "checkpoint_prefix = os.path.join(checkpoint_dir, \"ckpt\")\n",
    "checkpoint = tf.train.Checkpoint(opt=opt, siamese_model = siamese_model)  # siamese_model is the model created above \n"
   ]
  },
  {
   "cell_type": "markdown",
   "metadata": {},
   "source": [
    "# Build train step function\n",
    "used to train one batch of data"
   ]
  },
  {
   "cell_type": "code",
   "execution_count": 13,
   "metadata": {},
   "outputs": [],
   "source": [
    "# siamese_model is the model created above \n",
    "\n",
    "# Compile this function into tensorflow graph (@tf.function)\n",
    "@tf.function\n",
    "def train_step(batch):\n",
    "    with tf.GradientTape() as tape:\n",
    "        X = batch[:2]  # [anchor, positive] or [anchor, negative]\n",
    "        y = batch[2]   # The label (0 or 1)\n",
    "\n",
    "        # Pass this to the siamese neural network \n",
    "        yhat = siamese_model(X, training=True)  # Predicted y, i.e. y-hat  (y^)\n",
    "        \n",
    "        # Calculate loss \n",
    "        loss = contrastive_loss(y, yhat)   # Defined in \"set up loss and optimiser\" - pass the y ground truth (label) and the predicted y value\n",
    "\n",
    "    # Calculate gradients \n",
    "    grad = tape.gradient(loss, siamese_model.trainable_variables)\n",
    "\n",
    "    # Calculate updated weights and then apply to the siamese model\n",
    "    opt.apply_gradients(\n",
    "        zip(grad, siamese_model.trainable_variables)\n",
    "    )\n",
    "\n",
    "    # return the loss \n",
    "    return loss"
   ]
  },
  {
   "cell_type": "markdown",
   "metadata": {},
   "source": [
    "# Set up tensorboard logging"
   ]
  },
  {
   "cell_type": "code",
   "execution_count": 14,
   "metadata": {},
   "outputs": [],
   "source": [
    "import tensorflow as tf\n",
    "from datetime import datetime\n",
    "\n",
    "log_dir = \"logs/\" + datetime.now().strftime(\"%Y-%m-%d_%H-%M-%S\")\n",
    "# Create a summary writer\n",
    "summary_writer = tf.summary.create_file_writer(log_dir)"
   ]
  },
  {
   "cell_type": "markdown",
   "metadata": {},
   "source": [
    "# Set up precision and recall"
   ]
  },
  {
   "cell_type": "code",
   "execution_count": 15,
   "metadata": {},
   "outputs": [],
   "source": [
    "# Import precision and recall \n",
    "from tensorflow.keras.metrics import Precision, Recall \n",
    "\n",
    "# Initialise precision and recall\n",
    "precision = Precision()\n",
    "recall = Recall()"
   ]
  },
  {
   "cell_type": "markdown",
   "metadata": {},
   "source": [
    "# Build training loop"
   ]
  },
  {
   "cell_type": "code",
   "execution_count": 16,
   "metadata": {},
   "outputs": [],
   "source": [
    "def train(train_data, val_data, EPOCHS):\n",
    "    # For each epoch, loop through each batch and run train steps \n",
    "    step = 0\n",
    "    for epoch in range(1, EPOCHS+1):\n",
    "\n",
    "        print(f\"Epoch {epoch} of {EPOCHS}\" + \"\\n\")\n",
    "        progbar = tf.keras.utils.Progbar(len(train_data))\n",
    "\n",
    "        # Loop through each batch\n",
    "        # Train loop\n",
    "        train_loss_average = tf.keras.metrics.Mean()\n",
    "        for index, batch in enumerate(train_data):\n",
    "            loss = train_step(batch)\n",
    "            train_loss_average.update_state(loss)\n",
    "            progbar.update(index + 1)\n",
    "\n",
    "        # Val loop\n",
    "        val_loss_average = tf.keras.metrics.Mean()\n",
    "        precision_train = tf.keras.metrics.Precision()\n",
    "        recall_train = tf.keras.metrics.Recall()\n",
    "        for val_batch in val_data:\n",
    "            # Calculate loss for the validation data\n",
    "            X = val_batch[:2]  # [anchor, positive] or [anchor, negative]\n",
    "            y = val_batch[2]   # The label (0 or 1)\n",
    "            yhat = siamese_model(X, training=False)  # Predicted y, i.e. y-hat  (y^)\n",
    "            yhat_binary = tf.cast(yhat > 0.5, tf.float32)  # Convert to 0 or 1\n",
    "\n",
    "            # Calculate loss \n",
    "            loss = contrastive_loss(y, yhat)\n",
    "            val_loss_average.update_state(loss)\n",
    "\n",
    "            # Update precision and recall\n",
    "            precision_train.update_state(y, yhat_binary)\n",
    "            recall_train.update_state(y, yhat_binary)\n",
    "\n",
    "        with summary_writer.as_default():\n",
    "            tf.summary.scalar('train_loss', float(train_loss_average.result()), step=step)\n",
    "            tf.summary.scalar('val_loss', float(val_loss_average.result()), step=step)\n",
    "            tf.summary.scalar('precision', float(precision_train.result()), step=step)\n",
    "            tf.summary.scalar('recall', float(recall_train.result()), step=step)\n",
    "\n",
    "        step += 1\n",
    "        \n",
    "        # Save checkpoints \n",
    "        if epoch % 10 == 0:\n",
    "            checkpoint.save(file_prefix=checkpoint_prefix)  # \"ckpt\"\n"
   ]
  },
  {
   "cell_type": "markdown",
   "metadata": {},
   "source": [
    "# Train the model"
   ]
  },
  {
   "cell_type": "code",
   "execution_count": 17,
   "metadata": {},
   "outputs": [
    {
     "name": "stdout",
     "output_type": "stream",
     "text": [
      "Epoch 1 of 50\n",
      "\n"
     ]
    },
    {
     "ename": "TypeError",
     "evalue": "in user code:\n\n    File \"/tmp/dcs-tmp.u2256784/ipykernel_67696/1016201313.py\", line 14, in train_step  *\n        loss = contrastive_loss(y, yhat)   # Defined in \"set up loss and optimiser\" - pass the y ground truth (label) and the predicted y value\n    File \"/tmp/dcs-tmp.u2256784/ipykernel_67696/395341011.py\", line 13, in contrastive_loss  *\n        return K.mean(y_true*square_pred + (1-y_true)*margin_square)\n\n    TypeError: Input 'y' of 'Mul' Op has type float32 that does not match type int32 of argument 'x'.\n",
     "output_type": "error",
     "traceback": [
      "\u001b[0;31m---------------------------------------------------------------------------\u001b[0m",
      "\u001b[0;31mTypeError\u001b[0m                                 Traceback (most recent call last)",
      "Cell \u001b[0;32mIn[17], line 4\u001b[0m\n\u001b[1;32m      1\u001b[0m EPOCHS \u001b[38;5;241m=\u001b[39m \u001b[38;5;241m50\u001b[39m\n\u001b[1;32m      3\u001b[0m \u001b[38;5;66;03m# Train model here \u001b[39;00m\n\u001b[0;32m----> 4\u001b[0m \u001b[43mtrain\u001b[49m\u001b[43m(\u001b[49m\u001b[43mtrain_data\u001b[49m\u001b[43m,\u001b[49m\u001b[43m \u001b[49m\u001b[43mvalidation_data\u001b[49m\u001b[43m,\u001b[49m\u001b[43m \u001b[49m\u001b[43mEPOCHS\u001b[49m\u001b[43m)\u001b[49m\n",
      "Cell \u001b[0;32mIn[16], line 13\u001b[0m, in \u001b[0;36mtrain\u001b[0;34m(train_data, val_data, EPOCHS)\u001b[0m\n\u001b[1;32m     11\u001b[0m train_loss_average \u001b[38;5;241m=\u001b[39m tf\u001b[38;5;241m.\u001b[39mkeras\u001b[38;5;241m.\u001b[39mmetrics\u001b[38;5;241m.\u001b[39mMean()\n\u001b[1;32m     12\u001b[0m \u001b[38;5;28;01mfor\u001b[39;00m index, batch \u001b[38;5;129;01min\u001b[39;00m \u001b[38;5;28menumerate\u001b[39m(train_data):\n\u001b[0;32m---> 13\u001b[0m     loss \u001b[38;5;241m=\u001b[39m \u001b[43mtrain_step\u001b[49m\u001b[43m(\u001b[49m\u001b[43mbatch\u001b[49m\u001b[43m)\u001b[49m\n\u001b[1;32m     14\u001b[0m     train_loss_average\u001b[38;5;241m.\u001b[39mupdate_state(loss)\n\u001b[1;32m     15\u001b[0m     progbar\u001b[38;5;241m.\u001b[39mupdate(index \u001b[38;5;241m+\u001b[39m \u001b[38;5;241m1\u001b[39m)\n",
      "File \u001b[0;32m~/tfvenv/lib64/python3.9/site-packages/tensorflow/python/util/traceback_utils.py:153\u001b[0m, in \u001b[0;36mfilter_traceback.<locals>.error_handler\u001b[0;34m(*args, **kwargs)\u001b[0m\n\u001b[1;32m    151\u001b[0m \u001b[38;5;28;01mexcept\u001b[39;00m \u001b[38;5;167;01mException\u001b[39;00m \u001b[38;5;28;01mas\u001b[39;00m e:\n\u001b[1;32m    152\u001b[0m   filtered_tb \u001b[38;5;241m=\u001b[39m _process_traceback_frames(e\u001b[38;5;241m.\u001b[39m__traceback__)\n\u001b[0;32m--> 153\u001b[0m   \u001b[38;5;28;01mraise\u001b[39;00m e\u001b[38;5;241m.\u001b[39mwith_traceback(filtered_tb) \u001b[38;5;28;01mfrom\u001b[39;00m\u001b[38;5;250m \u001b[39m\u001b[38;5;28;01mNone\u001b[39;00m\n\u001b[1;32m    154\u001b[0m \u001b[38;5;28;01mfinally\u001b[39;00m:\n\u001b[1;32m    155\u001b[0m   \u001b[38;5;28;01mdel\u001b[39;00m filtered_tb\n",
      "File \u001b[0;32m/tmp/dcs-tmp.u2256784/__autograph_generated_filet60yq9_9.py:14\u001b[0m, in \u001b[0;36mouter_factory.<locals>.inner_factory.<locals>.tf__train_step\u001b[0;34m(batch)\u001b[0m\n\u001b[1;32m     12\u001b[0m     y \u001b[38;5;241m=\u001b[39m ag__\u001b[38;5;241m.\u001b[39mld(batch)[\u001b[38;5;241m2\u001b[39m]\n\u001b[1;32m     13\u001b[0m     yhat \u001b[38;5;241m=\u001b[39m ag__\u001b[38;5;241m.\u001b[39mconverted_call(ag__\u001b[38;5;241m.\u001b[39mld(siamese_model), (ag__\u001b[38;5;241m.\u001b[39mld(X),), \u001b[38;5;28mdict\u001b[39m(training\u001b[38;5;241m=\u001b[39m\u001b[38;5;28;01mTrue\u001b[39;00m), fscope)\n\u001b[0;32m---> 14\u001b[0m     loss \u001b[38;5;241m=\u001b[39m ag__\u001b[38;5;241m.\u001b[39mconverted_call(ag__\u001b[38;5;241m.\u001b[39mld(contrastive_loss), (ag__\u001b[38;5;241m.\u001b[39mld(y), ag__\u001b[38;5;241m.\u001b[39mld(yhat)), \u001b[38;5;28;01mNone\u001b[39;00m, fscope)\n\u001b[1;32m     15\u001b[0m grad \u001b[38;5;241m=\u001b[39m ag__\u001b[38;5;241m.\u001b[39mconverted_call(ag__\u001b[38;5;241m.\u001b[39mld(tape)\u001b[38;5;241m.\u001b[39mgradient, (ag__\u001b[38;5;241m.\u001b[39mld(loss), ag__\u001b[38;5;241m.\u001b[39mld(siamese_model)\u001b[38;5;241m.\u001b[39mtrainable_variables), \u001b[38;5;28;01mNone\u001b[39;00m, fscope)\n\u001b[1;32m     16\u001b[0m ag__\u001b[38;5;241m.\u001b[39mconverted_call(ag__\u001b[38;5;241m.\u001b[39mld(opt)\u001b[38;5;241m.\u001b[39mapply_gradients, (ag__\u001b[38;5;241m.\u001b[39mconverted_call(ag__\u001b[38;5;241m.\u001b[39mld(\u001b[38;5;28mzip\u001b[39m), (ag__\u001b[38;5;241m.\u001b[39mld(grad), ag__\u001b[38;5;241m.\u001b[39mld(siamese_model)\u001b[38;5;241m.\u001b[39mtrainable_variables), \u001b[38;5;28;01mNone\u001b[39;00m, fscope),), \u001b[38;5;28;01mNone\u001b[39;00m, fscope)\n",
      "File \u001b[0;32m/tmp/dcs-tmp.u2256784/__autograph_generated_file7x7ya22j.py:14\u001b[0m, in \u001b[0;36mouter_factory.<locals>.inner_factory.<locals>.tf__contrastive_loss\u001b[0;34m(y_true, y_pred)\u001b[0m\n\u001b[1;32m     12\u001b[0m \u001b[38;5;28;01mtry\u001b[39;00m:\n\u001b[1;32m     13\u001b[0m     do_return \u001b[38;5;241m=\u001b[39m \u001b[38;5;28;01mTrue\u001b[39;00m\n\u001b[0;32m---> 14\u001b[0m     retval_ \u001b[38;5;241m=\u001b[39m ag__\u001b[38;5;241m.\u001b[39mconverted_call(ag__\u001b[38;5;241m.\u001b[39mld(K)\u001b[38;5;241m.\u001b[39mmean, (ag__\u001b[38;5;241m.\u001b[39mld(y_true) \u001b[38;5;241m*\u001b[39m ag__\u001b[38;5;241m.\u001b[39mld(square_pred) \u001b[38;5;241m+\u001b[39m (\u001b[38;5;241m1\u001b[39m \u001b[38;5;241m-\u001b[39m ag__\u001b[38;5;241m.\u001b[39mld(y_true)) \u001b[38;5;241m*\u001b[39m ag__\u001b[38;5;241m.\u001b[39mld(margin_square),), \u001b[38;5;28;01mNone\u001b[39;00m, fscope)\n\u001b[1;32m     15\u001b[0m \u001b[38;5;28;01mexcept\u001b[39;00m:\n\u001b[1;32m     16\u001b[0m     do_return \u001b[38;5;241m=\u001b[39m \u001b[38;5;28;01mFalse\u001b[39;00m\n",
      "\u001b[0;31mTypeError\u001b[0m: in user code:\n\n    File \"/tmp/dcs-tmp.u2256784/ipykernel_67696/1016201313.py\", line 14, in train_step  *\n        loss = contrastive_loss(y, yhat)   # Defined in \"set up loss and optimiser\" - pass the y ground truth (label) and the predicted y value\n    File \"/tmp/dcs-tmp.u2256784/ipykernel_67696/395341011.py\", line 13, in contrastive_loss  *\n        return K.mean(y_true*square_pred + (1-y_true)*margin_square)\n\n    TypeError: Input 'y' of 'Mul' Op has type float32 that does not match type int32 of argument 'x'.\n"
     ]
    }
   ],
   "source": [
    "EPOCHS = 50\n",
    "\n",
    "# Train model here \n",
    "train(train_data, validation_data, EPOCHS)"
   ]
  },
  {
   "cell_type": "markdown",
   "metadata": {},
   "source": [
    "# Evaluate the model\n",
    "precision: How many positive predictions are correct\n",
    "recall: How many positive results are predicted correctly.\n",
    "\n",
    "A higher number is a better performance"
   ]
  },
  {
   "cell_type": "code",
   "execution_count": null,
   "metadata": {},
   "outputs": [],
   "source": [
    "# Run the model on the test data \n",
    "for (category, test_image_1, test_image_2, label) in data_raw_test:\n",
    "    p1 = tf.expand_dims(preprocess(test_image_1), axis = 0)   # Make the batch size 1\n",
    "    p2 = tf.expand_dims(preprocess(test_image_2), axis = 0)\n",
    "\n",
    "    # Make predictions and compare to ground truth\n",
    "    yhat = siamese_model.predict([p1, p2])\n",
    "    y_true = tf.convert_to_tensor([label], dtype=tf.float32)\n",
    "\n",
    "    # Postprocess them based on a threshold \n",
    "    THRESHOLD = 0.5 \n",
    "\n",
    "    print(f\"{category}\")\n",
    "    print(f\"Expected = {label}\")\n",
    "    print(f\"Predicted: {yhat >= THRESHOLD}\")\n",
    "    print(f\"Confidence: {yhat}\")\n",
    "\n",
    "    # Update the precision and recall value \n",
    "    precision.update_state(y_true, yhat)\n",
    "    recall.update_state(y_true, yhat)"
   ]
  },
  {
   "cell_type": "code",
   "execution_count": null,
   "metadata": {},
   "outputs": [],
   "source": [
    "print(f\"Precision: {precision.result().numpy()}\")\n",
    "print(f\"Recall: {recall.result().numpy()}\")"
   ]
  },
  {
   "cell_type": "markdown",
   "metadata": {},
   "source": [
    "# Save and load the model to the \"model\" variable"
   ]
  },
  {
   "cell_type": "code",
   "execution_count": null,
   "metadata": {},
   "outputs": [],
   "source": [
    "MODEL_OUTPUT_NAME = \"siameseModel\"\n",
    "\n",
    "siamese_model.save(MODEL_OUTPUT_NAME + \".h5\")"
   ]
  },
  {
   "cell_type": "code",
   "execution_count": null,
   "metadata": {},
   "outputs": [],
   "source": [
    "# Reload the model:\n",
    "model = tf.keras.models.load_model(MODEL_OUTPUT_NAME + \".h5\", \n",
    "                                   custom_objects={\n",
    "                                       \"L1Dist\": L1Dist,    # From \"Build distance layer\" - it is a custom layer in = L1Dist()\n",
    "                                       \"BinaryCrossentropy\": tf.losses.BinaryCrossentropy\n",
    "                                       }\n",
    "                                   )"
   ]
  },
  {
   "cell_type": "markdown",
   "metadata": {},
   "source": [
    "# Output the model as .tflite file\n",
    "this may take a while"
   ]
  },
  {
   "cell_type": "code",
   "execution_count": null,
   "metadata": {},
   "outputs": [],
   "source": [
    "\"\"\"\n",
    "import tensorflow as tf\n",
    "\n",
    "converter = tf.lite.TFLiteConverter.from_keras_model(model)\n",
    "tflite_model = converter.convert()\n",
    "tflite_filename = MODEL_OUTPUT_NAME + \".tflite\"\n",
    "with open(tflite_filename, \"wb\") as f:\n",
    "    f.write(tflite_model)\n",
    "\"\"\"\n"
   ]
  }
 ],
 "metadata": {
  "kernelspec": {
   "display_name": "tfvenv",
   "language": "python",
   "name": "python3"
  },
  "language_info": {
   "codemirror_mode": {
    "name": "ipython",
    "version": 3
   },
   "file_extension": ".py",
   "mimetype": "text/x-python",
   "name": "python",
   "nbconvert_exporter": "python",
   "pygments_lexer": "ipython3",
   "version": "3.9.21"
  }
 },
 "nbformat": 4,
 "nbformat_minor": 2
}
